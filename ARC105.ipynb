{
 "cells": [
  {
   "cell_type": "code",
   "execution_count": 4,
   "metadata": {},
   "outputs": [
    {
     "name": "stdout",
     "output_type": "stream",
     "text": [
      "4 1 4 1\n",
      "Yes\n"
     ]
    }
   ],
   "source": [
    "a = list(map(int,input().split()))\n",
    "temp = 0\n",
    "ans = 0\n",
    "for i in range(4):\n",
    "    if abs(sum(a)-a[i]) == 0:\n",
    "        ans = 1\n",
    "for i in range(4):\n",
    "    for j in range(4):\n",
    "        if a[i]+a[j] == sum(a)-a[i]-a[j]:\n",
    "            ans = 1\n",
    "if ans == 1:\n",
    "    print(\"Yes\")\n",
    "else:\n",
    "    print(\"No\")"
   ]
  },
  {
   "cell_type": "code",
   "execution_count": 19,
   "metadata": {},
   "outputs": [
    {
     "name": "stdout",
     "output_type": "stream",
     "text": [
      "15\n",
      "546 3192 1932 630 2100 4116 3906 3234 1302 1806 3528 3780 252 1008 588\n",
      "2.1666666666666665\n",
      "12.666666666666666\n",
      "7.666666666666667\n",
      "2.5\n",
      "8.333333333333334\n",
      "16.333333333333332\n",
      "15.5\n",
      "12.833333333333334\n",
      "5.166666666666667\n",
      "7.166666666666667\n",
      "14.0\n",
      "15.0\n",
      "1.0\n",
      "4.0\n",
      "2.3333333333333335\n"
     ]
    }
   ],
   "source": [
    "n = int(input())\n",
    "a = list(map(int,input().split()))\n",
    "ma = max(a)\n",
    "mi = min(a)\n",
    "for i in a:\n",
    "    print(i/mi)"
   ]
  },
  {
   "cell_type": "code",
   "execution_count": 18,
   "metadata": {},
   "outputs": [
    {
     "data": {
      "text/plain": [
       "15.333333333333334"
      ]
     },
     "execution_count": 18,
     "metadata": {},
     "output_type": "execute_result"
    }
   ],
   "source": [
    "3864/252"
   ]
  },
  {
   "cell_type": "code",
   "execution_count": null,
   "metadata": {},
   "outputs": [],
   "source": [
    "n,m  = map(int,input().split())\n",
    "w = list(map(int,input().split()))\n",
    "ans = 0\n",
    "flag = 0\n",
    "for i in range(m):\n",
    "    l,v = map(int,input().split())\n",
    "    for j in w:\n",
    "        if v >= j:\n",
    "            if flag == 1:\n",
    "                ans = ans+l\n",
    "            else:\n",
    "                ans = max(ans,l)\n",
    "                flag = 1\n",
    "        else:\n",
    "            flag = 0\n",
    "print(ans)"
   ]
  },
  {
   "cell_type": "code",
   "execution_count": null,
   "metadata": {},
   "outputs": [],
   "source": []
  }
 ],
 "metadata": {
  "kernelspec": {
   "display_name": "Python 3",
   "language": "python",
   "name": "python3"
  },
  "language_info": {
   "codemirror_mode": {
    "name": "ipython",
    "version": 3
   },
   "file_extension": ".py",
   "mimetype": "text/x-python",
   "name": "python",
   "nbconvert_exporter": "python",
   "pygments_lexer": "ipython3",
   "version": "3.5.5"
  },
  "toc": {
   "base_numbering": 1,
   "nav_menu": {},
   "number_sections": true,
   "sideBar": true,
   "skip_h1_title": false,
   "title_cell": "Table of Contents",
   "title_sidebar": "Contents",
   "toc_cell": false,
   "toc_position": {},
   "toc_section_display": true,
   "toc_window_display": false
  }
 },
 "nbformat": 4,
 "nbformat_minor": 2
}
