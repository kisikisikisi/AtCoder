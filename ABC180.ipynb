{
 "cells": [
  {
   "cell_type": "code",
   "execution_count": 1,
   "metadata": {},
   "outputs": [
    {
     "name": "stdout",
     "output_type": "stream",
     "text": [
      "100 1 2\n",
      "101\n"
     ]
    }
   ],
   "source": [
    "n,a,b = map(int,input().split())\n",
    "print(n-a+b)"
   ]
  },
  {
   "cell_type": "code",
   "execution_count": 3,
   "metadata": {},
   "outputs": [
    {
     "name": "stdout",
     "output_type": "stream",
     "text": [
      "10\n",
      "3 -1 -4 1 -5 9 2 -6 5 -3\n",
      "39\n",
      "14.38749456993816\n",
      "9\n"
     ]
    }
   ],
   "source": [
    "n = int(input())\n",
    "x = list(map(int,input().split()))\n",
    "a = 0\n",
    "b = 0\n",
    "c = 0\n",
    "for i in x:\n",
    "    a += abs(i)\n",
    "    b += abs(i)**2\n",
    "    c = max(c,abs(i))\n",
    "print(a)\n",
    "print(b**0.5)\n",
    "print(c)"
   ]
  },
  {
   "cell_type": "code",
   "execution_count": 8,
   "metadata": {},
   "outputs": [
    {
     "name": "stdout",
     "output_type": "stream",
     "text": [
      "1000000007\n",
      "1\n",
      "1000000007\n"
     ]
    }
   ],
   "source": [
    "n = int(input())\n",
    "def make_divisors(n):\n",
    "    lower_divisors , upper_divisors = [], []\n",
    "    i = 1\n",
    "    while i*i <= n:\n",
    "        if n % i == 0:\n",
    "            lower_divisors.append(i)\n",
    "            if i != n // i:\n",
    "                upper_divisors.append(n//i)\n",
    "        i += 1\n",
    "    return lower_divisors + upper_divisors[::-1]\n",
    "ans = make_divisors(n)\n",
    "for i in ans:\n",
    "    print(i)"
   ]
  },
  {
   "cell_type": "code",
   "execution_count": 8,
   "metadata": {},
   "outputs": [
    {
     "name": "stdout",
     "output_type": "stream",
     "text": [
      "4 20 2 10\n",
      "3\n"
     ]
    },
    {
     "ename": "SystemExit",
     "evalue": "",
     "output_type": "error",
     "traceback": [
      "An exception has occurred, use %tb to see the full traceback.\n",
      "\u001b[1;31mSystemExit\u001b[0m\n"
     ]
    },
    {
     "name": "stderr",
     "output_type": "stream",
     "text": [
      "C:\\Users\\bi17030\\Anaconda3\\lib\\site-packages\\IPython\\core\\interactiveshell.py:2971: UserWarning: To exit: use 'exit', 'quit', or Ctrl-D.\n",
      "  warn(\"To exit: use 'exit', 'quit', or Ctrl-D.\", stacklevel=1)\n"
     ]
    }
   ],
   "source": [
    "import sys\n",
    "import math\n",
    "x,y,a,b = map(int,input().split())\n",
    "ans = 0\n",
    "ans2 = 0\n",
    "p = b\n",
    "temp = math.ceil((y-x)/b)\n",
    "\n",
    "for i in range(10**7):\n",
    "    x = min(x*a,x+b)\n",
    "    if min(x*a,x+b) == x+b:\n",
    "        print(temp+ans)\n",
    "        sys.exit()\n",
    "    ans += 1"
   ]
  },
  {
   "cell_type": "code",
   "execution_count": 54,
   "metadata": {},
   "outputs": [
    {
     "name": "stdout",
     "output_type": "stream",
     "text": [
      "1180591620717411303424\n"
     ]
    }
   ],
   "source": [
    "t = 1\n",
    "for i in range(70):\n",
    "    t *= 2\n",
    "print(t)"
   ]
  },
  {
   "cell_type": "code",
   "execution_count": null,
   "metadata": {},
   "outputs": [],
   "source": []
  }
 ],
 "metadata": {
  "kernelspec": {
   "display_name": "Python 3",
   "language": "python",
   "name": "python3"
  },
  "language_info": {
   "codemirror_mode": {
    "name": "ipython",
    "version": 3
   },
   "file_extension": ".py",
   "mimetype": "text/x-python",
   "name": "python",
   "nbconvert_exporter": "python",
   "pygments_lexer": "ipython3",
   "version": "3.5.5"
  },
  "toc": {
   "base_numbering": 1,
   "nav_menu": {},
   "number_sections": true,
   "sideBar": true,
   "skip_h1_title": false,
   "title_cell": "Table of Contents",
   "title_sidebar": "Contents",
   "toc_cell": false,
   "toc_position": {},
   "toc_section_display": true,
   "toc_window_display": false
  }
 },
 "nbformat": 4,
 "nbformat_minor": 2
}
