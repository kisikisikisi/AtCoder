{
 "cells": [
  {
   "cell_type": "markdown",
   "metadata": {},
   "source": [
    "# ABC170"
   ]
  },
  {
   "cell_type": "code",
   "execution_count": 2,
   "metadata": {},
   "outputs": [
    {
     "name": "stdout",
     "output_type": "stream",
     "text": [
      "1 2 0 4 5\n",
      "3\n"
     ]
    }
   ],
   "source": [
    "x = list(map(int,input().split()))\n",
    "print(x.index(0)+1)"
   ]
  },
  {
   "cell_type": "code",
   "execution_count": 5,
   "metadata": {},
   "outputs": [
    {
     "name": "stdout",
     "output_type": "stream",
     "text": [
      "1 2\n",
      "Yes\n"
     ]
    },
    {
     "ename": "SystemExit",
     "evalue": "",
     "output_type": "error",
     "traceback": [
      "An exception has occurred, use %tb to see the full traceback.\n",
      "\u001b[1;31mSystemExit\u001b[0m\n"
     ]
    },
    {
     "name": "stderr",
     "output_type": "stream",
     "text": [
      "C:\\Users\\bi17030\\Anaconda3\\lib\\site-packages\\IPython\\core\\interactiveshell.py:2971: UserWarning: To exit: use 'exit', 'quit', or Ctrl-D.\n",
      "  warn(\"To exit: use 'exit', 'quit', or Ctrl-D.\", stacklevel=1)\n"
     ]
    }
   ],
   "source": [
    "import sys\n",
    "x,y = map(int,input().split())\n",
    "for i in range(100):\n",
    "    for j in range(100):\n",
    "        if i+j == x and i*2+j*4 == y:\n",
    "            print(\"Yes\")\n",
    "            sys.exit()\n",
    "print(\"No\")"
   ]
  },
  {
   "cell_type": "code",
   "execution_count": 29,
   "metadata": {},
   "outputs": [
    {
     "name": "stdout",
     "output_type": "stream",
     "text": [
      "3 1\n",
      "1 1 3 1 1 5\n",
      "2\n"
     ]
    }
   ],
   "source": [
    "x,n = map(int,input().split())\n",
    "p = list(map(int,input().split()))\n",
    "p1 = [i for i in range(0,101)]\n",
    "for i in p:\n",
    "    if i in p1:\n",
    "        p1.remove(i)\n",
    "ans = 1000\n",
    "al = []\n",
    "for i in p1:\n",
    "    if ans >= abs(i-x):\n",
    "        ans = min(abs(i-x),ans)\n",
    "        al.append(i)\n",
    "print(al)\n",
    "if len(al) == 0:\n",
    "    if x < 50:\n",
    "        print(0)\n",
    "    else:\n",
    "        print(101)\n",
    "elif len(al) > 1:\n",
    "    if abs(al[-1]-x) == abs(al[-2]-x):\n",
    "        print(al[-2])\n",
    "    else:\n",
    "        print(al[-1])\n",
    "else:\n",
    "    print(al[-1])"
   ]
  }
 ],
 "metadata": {
  "kernelspec": {
   "display_name": "Python 3",
   "language": "python",
   "name": "python3"
  },
  "language_info": {
   "codemirror_mode": {
    "name": "ipython",
    "version": 3
   },
   "file_extension": ".py",
   "mimetype": "text/x-python",
   "name": "python",
   "nbconvert_exporter": "python",
   "pygments_lexer": "ipython3",
   "version": "3.5.5"
  },
  "toc": {
   "base_numbering": 1,
   "nav_menu": {},
   "number_sections": true,
   "sideBar": true,
   "skip_h1_title": false,
   "title_cell": "Table of Contents",
   "title_sidebar": "Contents",
   "toc_cell": false,
   "toc_position": {},
   "toc_section_display": true,
   "toc_window_display": false
  }
 },
 "nbformat": 4,
 "nbformat_minor": 2
}
