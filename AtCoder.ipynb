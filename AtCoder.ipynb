{
 "cells": [
  {
   "cell_type": "markdown",
   "metadata": {},
   "source": [
    "# 尺取り法"
   ]
  },
  {
   "cell_type": "code",
   "execution_count": 9,
   "metadata": {},
   "outputs": [
    {
     "name": "stdout",
     "output_type": "stream",
     "text": [
      "1 1\n",
      "1\n",
      "1\n"
     ]
    }
   ],
   "source": [
    "n,k = map(int,input().split())\n",
    "s = [int(input()) for i in range(n)]\n",
    "\n",
    "if 0 in s:\n",
    "    print(n)\n",
    "else:\n",
    "    r, ans, tmp = 0, 0, 1\n",
    "    for l in range(n):\n",
    "        while r < n and tmp*s[r] <= k:\n",
    "            tmp *= s[r]\n",
    "            r += 1\n",
    "        ans = max(ans,r-l)\n",
    "        if l == r:\n",
    "            r += 1\n",
    "        else:\n",
    "            tmp //= s[l]\n",
    "    print(ans)"
   ]
  },
  {
   "cell_type": "markdown",
   "metadata": {},
   "source": [
    "# 基数変換"
   ]
  },
  {
   "cell_type": "code",
   "execution_count": 5,
   "metadata": {},
   "outputs": [
    {
     "name": "stdout",
     "output_type": "stream",
     "text": [
      "3 2\n",
      "11\n"
     ]
    }
   ],
   "source": [
    "n,k = map(int,input().split())\n",
    "def Base_10_to_n(X, n):\n",
    "    if (int(X/n)):\n",
    "        return Base_10_to_n(int(X/n), n)+str(X%n)\n",
    "    return str(X%n)\n",
    "\n",
    "print(Base_10_to_n(3, 2))"
   ]
  },
  {
   "cell_type": "markdown",
   "metadata": {},
   "source": [
    "# sort"
   ]
  },
  {
   "cell_type": "code",
   "execution_count": 195,
   "metadata": {},
   "outputs": [
    {
     "name": "stdout",
     "output_type": "stream",
     "text": [
      "3 3\n",
      "9 2\n",
      "3 9\n",
      "1 1\n"
     ]
    },
    {
     "data": {
      "text/plain": [
       "[[9, 2, 0.2222222222222222], [1, 1, 1.0], [3, 9, 3.0]]"
      ]
     },
     "execution_count": 195,
     "metadata": {},
     "output_type": "execute_result"
    }
   ],
   "source": [
    "ls = sorted(ls,key=lambda x:x[2])"
   ]
  },
  {
   "cell_type": "markdown",
   "metadata": {},
   "source": [
    "# 幅優先探索"
   ]
  },
  {
   "cell_type": "code",
   "execution_count": 8,
   "metadata": {},
   "outputs": [
    {
     "name": "stdout",
     "output_type": "stream",
     "text": [
      "4 100 60\n",
      "0 0 0\n",
      "-1\n"
     ]
    }
   ],
   "source": [
    "h,w = map(int,input().split())\n",
    "C = [list(input()) for i in range(h)]\n",
    "\n",
    "queue = []\n",
    "visited = [] \n",
    "visited = [[0 for i in range(w)] for i in range(h)]\n",
    "ans = 0\n",
    "\n",
    "for i in range(h):\n",
    "    for j in range(w):\n",
    "        if C[i][j] == '.':\n",
    "            queue.append([i,j])\n",
    "            visited[i][j] = 1\n",
    "\n",
    "            dy_dx = [[1,0],[0,1],[-1,0],[0,-1]]\n",
    "\n",
    "            while len(queue) > 0:\n",
    "                now = queue.pop(0)\n",
    "                for k in range(4):\n",
    "                    y = now[0]+dy_dx[k][0]\n",
    "                    x = now[1]+dy_dx[k][1]\n",
    "                    if 0 <= y < h and 0 <= x < w:\n",
    "                        if C[y][x] != '#' and visited[y][x] == 0:\n",
    "                            visited[y][x] = visited[now[0]][now[1]]+1\n",
    "                            queue.append([y,x])\n",
    "                    \n",
    "        for l in range(h):\n",
    "            for m in range(w):\n",
    "                ans = max(ans,visited[l][m])\n",
    "            \n",
    "        queue = []\n",
    "        visited = [[0 for i in range(w)] for i in range(h)]              \n",
    "        \n",
    "print(ans-1)"
   ]
  },
  {
   "cell_type": "code",
   "execution_count": 10,
   "metadata": {},
   "outputs": [
    {
     "name": "stdout",
     "output_type": "stream",
     "text": [
      "1 1\n",
      "1\n",
      "No\n"
     ]
    }
   ],
   "source": [
    "import sys\n",
    "h,w = map(int,input().split())\n",
    "C = [list(input()) for i in range(h)]\n",
    "visited = [[0 for i in range(w)] for i in range(h)]\n",
    "queue = []\n",
    "for i in range(h):\n",
    "    for j in range(w):\n",
    "        if C[i][j] == 's':\n",
    "            queue.append([i,j])\n",
    "            visited[i][j] = 1\n",
    "            \n",
    "dy_dx = [[1,0],[0,1],[-1,0],[0,-1]]\n",
    "\n",
    "while len(queue) > 0:\n",
    "    now = queue.pop(0)\n",
    "    if C[now[0]][now[1]] == 'g':\n",
    "        print('Yes')\n",
    "        sys.exit()\n",
    "    for i in range(4):\n",
    "        y = now[0]+dy_dx[i][0]\n",
    "        x = now[1]+dy_dx[i][1]\n",
    "        if 0 <= y < h and 0 <= x < w:\n",
    "            if C[y][x] != '#' and visited[y][x] == 0:\n",
    "                visited[y][x] = 1\n",
    "                queue.append([y,x])\n",
    "    for i in visited:\n",
    "        for j in i:\n",
    "            print(j,end=\"\")\n",
    "        print(\"\")\n",
    "    print(\"--------------------\")\n",
    "                \n",
    "print('No')"
   ]
  },
  {
   "cell_type": "markdown",
   "metadata": {},
   "source": [
    "# 深さ優先探索"
   ]
  },
  {
   "cell_type": "code",
   "execution_count": 4,
   "metadata": {},
   "outputs": [
    {
     "name": "stdout",
     "output_type": "stream",
     "text": [
      "4 4\n",
      "s.#.\n",
      "..#.\n",
      "#...\n",
      "...g\n",
      "[1, 1, 0, 0]\n",
      "[1, 0, 0, 0]\n",
      "[0, 0, 0, 0]\n",
      "[0, 0, 0, 0]\n",
      "------------\n",
      "[1, 1, 0, 0]\n",
      "[1, 1, 0, 0]\n",
      "[0, 0, 0, 0]\n",
      "[0, 0, 0, 0]\n",
      "------------\n",
      "[1, 1, 0, 0]\n",
      "[1, 1, 0, 0]\n",
      "[0, 1, 0, 0]\n",
      "[0, 0, 0, 0]\n",
      "------------\n",
      "[1, 1, 0, 0]\n",
      "[1, 1, 0, 0]\n",
      "[0, 1, 1, 0]\n",
      "[0, 1, 0, 0]\n",
      "------------\n",
      "[1, 1, 0, 0]\n",
      "[1, 1, 0, 0]\n",
      "[0, 1, 1, 1]\n",
      "[0, 1, 1, 0]\n",
      "------------\n",
      "[1, 1, 0, 0]\n",
      "[1, 1, 0, 1]\n",
      "[0, 1, 1, 1]\n",
      "[0, 1, 1, 1]\n",
      "------------\n",
      "[1, 1, 0, 1]\n",
      "[1, 1, 0, 1]\n",
      "[0, 1, 1, 1]\n",
      "[0, 1, 1, 1]\n",
      "------------\n",
      "[1, 1, 0, 1]\n",
      "[1, 1, 0, 1]\n",
      "[0, 1, 1, 1]\n",
      "[0, 1, 1, 1]\n",
      "------------\n",
      "Yes\n"
     ]
    },
    {
     "ename": "SystemExit",
     "evalue": "",
     "output_type": "error",
     "traceback": [
      "An exception has occurred, use %tb to see the full traceback.\n",
      "\u001b[1;31mSystemExit\u001b[0m\n"
     ]
    },
    {
     "name": "stderr",
     "output_type": "stream",
     "text": [
      "C:\\Users\\bi17030\\Anaconda3\\lib\\site-packages\\IPython\\core\\interactiveshell.py:2971: UserWarning: To exit: use 'exit', 'quit', or Ctrl-D.\n",
      "  warn(\"To exit: use 'exit', 'quit', or Ctrl-D.\", stacklevel=1)\n"
     ]
    }
   ],
   "source": [
    "import sys\n",
    "h,w = map(int,input().split())\n",
    "C = []\n",
    "stack = []\n",
    "visited = []\n",
    "for i in range(h):\n",
    "    T = [0]*w\n",
    "    visited.append(T)\n",
    "for i in range(h):\n",
    "    s = input()\n",
    "    L = []\n",
    "    for j in range(w):\n",
    "        L.append(s[j])\n",
    "        if s[j] == 's':\n",
    "            stack.append([i,j])\n",
    "            visited[i][j] = 1\n",
    "    C.append(L)\n",
    "dy_dx = [[1,0],[0,1],[-1,0],[0,-1]]\n",
    "flag = False\n",
    "while len(stack) > 0:\n",
    "    now = stack.pop()\n",
    "    if C[now[0]][now[1]] == 'g':\n",
    "        print('Yes')\n",
    "        sys.exit()\n",
    "        flag = True\n",
    "    for i in range(4):\n",
    "        y = now[0]+dy_dx[i][0]\n",
    "        x = now[1]+dy_dx[i][1]\n",
    "        if 0 <= y < h and 0 <= x < w:\n",
    "            if C[y][x] != '#' and visited[y][x] == 0:\n",
    "                visited[y][x] = 1\n",
    "                stack.append([y,x])\n",
    "    for i in visited:\n",
    "        print(i)\n",
    "    print(\"------------\")\n",
    "if not flag:\n",
    "    print('No')"
   ]
  },
  {
   "cell_type": "code",
   "execution_count": 15,
   "metadata": {},
   "outputs": [
    {
     "name": "stdout",
     "output_type": "stream",
     "text": [
      "3 3\n",
      "...\n",
      "...\n",
      "...\n",
      "\n",
      "0\n",
      "0\n",
      "0\n",
      "0\n",
      "0\n",
      "0\n",
      "0\n",
      "0\n",
      "0\n"
     ]
    }
   ],
   "source": [
    "h,w = map(int,input().split())\n",
    "C = []\n",
    "queue = []\n",
    "visited = []\n",
    "\n",
    "for i in range(h):\n",
    "    T = [0]*w\n",
    "    visited.append(T)\n",
    "    \n",
    "pp = 0\n",
    "for i in range(h):\n",
    "    s = input()\n",
    "    L = []\n",
    "    for j in range(w):\n",
    "        L.append(s[j])\n",
    "        if s[j] == '.' and pp == 0:\n",
    "            queue.append([i,j])\n",
    "            visited[i][j] = 1\n",
    "            pp += 1\n",
    "    C.append(L)\n",
    "    \n",
    "dy_dx = [[1,0],[0,1],[-1,0],[0,-1]]\n",
    "flag = False\n",
    "\n",
    "for i in range(h):\n",
    "    for j in range(w):\n",
    "        if C[i][j] == \".\":\n",
    "            gx, gy = i, j\n",
    "            count = 0\n",
    "            while len(queue) > 0:\n",
    "                now = queue.pop(0)\n",
    "                for i in range(4):\n",
    "                    y = now[0]+dy_dx[i][0]\n",
    "                    x = now[1]+dy_dx[i][1]\n",
    "                    if 0 <= y < h and 0 <= x < w:\n",
    "                        if C[y][x] != '#' and visited[y][x] == 0:\n",
    "                            visited[y][x] = 1\n",
    "                            queue.append([y,x])\n",
    "                            count += 1\n",
    "                            print(111)\n",
    "            print(count)"
   ]
  },
  {
   "cell_type": "code",
   "execution_count": null,
   "metadata": {
    "code_folding": []
   },
   "outputs": [],
   "source": [
    "h,w = map(int,input().split())\n",
    "C = [list(input()) for i in range(h)]\n",
    "\n",
    "queue = []\n",
    "visited = [] \n",
    "ans = 0\n",
    "for i in range(h):\n",
    "    T = [0]*w\n",
    "    visited.append(T) \n",
    "\n",
    "\n",
    "for i in range(h):\n",
    "    for j in range(w):\n",
    "        print(i,j)\n",
    "        if C[i][j] == '.':\n",
    "            queue.append([i,j])\n",
    "            visited[i][j] = 1\n",
    "\n",
    "            dy_dx = [[1,0],[0,1],[-1,0],[0,-1]]\n",
    "\n",
    "            while len(queue) > 0:\n",
    "                now = queue.pop(0)\n",
    "                for i in range(4):\n",
    "                    y = now[0]+dy_dx[i][0]\n",
    "                    x = now[1]+dy_dx[i][1]\n",
    "                    if 0 <= y < h and 0 <= x < w:\n",
    "                        if C[y][x] != '#' and visited[y][x] == 0:\n",
    "                            visited[y][x] = visited[now[0]][now[1]]+1\n",
    "                            queue.append([y,x])\n",
    "                    \n",
    "        for i in range(h):\n",
    "            for j in range(w):\n",
    "                print(visited[i][j],end=\"\")\n",
    "                ans = max(ans,visited[i][j])\n",
    "            print(\"\")\n",
    "            \n",
    "        queue = []\n",
    "        visited = [] \n",
    "        for i in range(h):\n",
    "            T = [0]*w\n",
    "            visited.append(T) \n",
    "                        \n",
    "        \n",
    "print(ans-1)"
   ]
  },
  {
   "cell_type": "code",
   "execution_count": 38,
   "metadata": {
    "scrolled": true
   },
   "outputs": [
    {
     "name": "stdout",
     "output_type": "stream",
     "text": [
      "4 4\n",
      "s...\n",
      "....\n",
      "....\n",
      "g...\n",
      "Yes\n"
     ]
    },
    {
     "ename": "SystemExit",
     "evalue": "",
     "output_type": "error",
     "traceback": [
      "An exception has occurred, use %tb to see the full traceback.\n",
      "\u001b[1;31mSystemExit\u001b[0m\n"
     ]
    },
    {
     "name": "stderr",
     "output_type": "stream",
     "text": [
      "C:\\Users\\bi17030\\Anaconda3\\lib\\site-packages\\IPython\\core\\interactiveshell.py:2971: UserWarning: To exit: use 'exit', 'quit', or Ctrl-D.\n",
      "  warn(\"To exit: use 'exit', 'quit', or Ctrl-D.\", stacklevel=1)\n"
     ]
    }
   ],
   "source": [
    "import sys\n",
    "h,w = map(int,input().split())\n",
    "c = [list(input()) for i in range(h)]\n",
    "\n",
    "for i in range(h):\n",
    "    for j in range(w):\n",
    "        if c[i][j] == \".\":\n",
    "            sx,sy = i,j #スタート\n",
    "            \n",
    "        \n",
    "        #elif c[i][j] == \"g\":\n",
    "           # gx,gy = i,j #ゴール\n",
    "\n",
    "stack = [[sx,sy]]\n",
    "visited = [[0 for i in range(w)]for j in range(h)]\n",
    "visited[sx][sy] = 1\n",
    "\n",
    "dx_dy = [[1,0],[0,1],[-1,0],[0,-1]]\n",
    "\n",
    "while stack:\n",
    "    x,y = stack.pop() #要素を取り出す\n",
    "    for i in range(4):\n",
    "        nx,ny = x+dx_dy[i][0], y+dx_dy[i][1] #現在の位置\n",
    "        if 0 <= nx < h and 0 <= ny < w and visited[nx][ny] == 0 and c[nx][ny] != '#':\n",
    "            visited[nx][ny] = 1 #訪れた印をつける\n",
    "            stack.append([nx,ny]) #スタックに現在位置をpush\n",
    "        for i in \n",
    "    if visited[gx][gy] == 1: \n",
    "        print(\"Yes\")\n",
    "        sys.exit()\n",
    "\n",
    "print(\"No\")"
   ]
  },
  {
   "cell_type": "markdown",
   "metadata": {},
   "source": [
    "## 再帰"
   ]
  },
  {
   "cell_type": "code",
   "execution_count": 7,
   "metadata": {},
   "outputs": [
    {
     "name": "stdout",
     "output_type": "stream",
     "text": [
      "2 2\n",
      "..\n",
      "..\n",
      "..\n",
      "..\n",
      "--------------------\n",
      "..\n",
      "#.\n",
      "--------------------\n",
      "..\n",
      "#.\n",
      "--------------------\n",
      "2\n",
      "..\n",
      "#.\n",
      "--------------------\n",
      "..\n",
      "##\n",
      "--------------------\n",
      "..\n",
      "##\n",
      "--------------------\n",
      ".#\n",
      "##\n",
      "--------------------\n",
      ".#\n",
      "##\n",
      "--------------------\n",
      ".#\n",
      "##\n",
      "--------------------\n",
      ".#\n",
      "##\n",
      "--------------------\n",
      "5\n",
      ".#\n",
      "##\n",
      "--------------------\n",
      ".#\n",
      "##\n",
      "--------------------\n",
      ".#\n",
      "##\n",
      "--------------------\n",
      "..\n",
      "..\n",
      "--------------------\n",
      "..\n",
      "#.\n",
      "--------------------\n",
      "..\n",
      "#.\n",
      "--------------------\n",
      "#.\n",
      "#.\n",
      "--------------------\n",
      "#.\n",
      "#.\n",
      "--------------------\n",
      "#.\n",
      "#.\n",
      "--------------------\n",
      "3\n",
      "#.\n",
      "#.\n",
      "--------------------\n",
      "#.\n",
      "#.\n",
      "--------------------\n",
      "#.\n",
      "##\n",
      "--------------------\n",
      "#.\n",
      "##\n",
      "--------------------\n",
      "5\n",
      "#.\n",
      "##\n",
      "--------------------\n",
      "#.\n",
      "##\n",
      "--------------------\n",
      "#.\n",
      "##\n",
      "--------------------\n",
      "..\n",
      "..\n",
      "--------------------\n",
      "1\n",
      "..\n",
      "..\n",
      "--------------------\n",
      "..\n",
      "#.\n",
      "--------------------\n",
      "..\n",
      "#.\n",
      "--------------------\n",
      "#.\n",
      "#.\n",
      "--------------------\n",
      "#.\n",
      "#.\n",
      "--------------------\n",
      "#.\n",
      "#.\n",
      "--------------------\n",
      "##\n",
      "#.\n",
      "--------------------\n",
      "4\n",
      "##\n",
      "#.\n",
      "--------------------\n",
      "##\n",
      "#.\n",
      "--------------------\n",
      "##\n",
      "#.\n",
      "--------------------\n",
      "##\n",
      "#.\n",
      "--------------------\n",
      "##\n",
      "#.\n",
      "--------------------\n",
      "5\n",
      "##\n",
      "#.\n",
      "--------------------\n",
      "4\n",
      "[2, 5, 3, 5, 1, 4, 5]\n"
     ]
    }
   ],
   "source": [
    "import sys\n",
    "import copy\n",
    "sys.setrecursionlimit(10**7)\n",
    "\n",
    "h,w = map(int,input().split())\n",
    "s = [list(input()) for i in range(h)]\n",
    "count = 0\n",
    "\n",
    "def dfs(x,y,gx,gy,c):\n",
    "    global count\n",
    "    global ans\n",
    "    if not(0 <= x < h) or not(0 <= y < w) or c[x][y] == \"#\":\n",
    "        return\n",
    "    else:\n",
    "        count += 1\n",
    "    if x == gx and y == gy:\n",
    "        ans.append(count)\n",
    "        print(count)\n",
    "        return count\n",
    "    c[x][y] = \"#\"\n",
    "    dfs(x+1,y, gx, gy,c)\n",
    "    dfs(x-1,y, gx, gy,c)\n",
    "    dfs(x,y+1, gx, gy,c)\n",
    "    dfs(x,y-1, gx, gy,c)\n",
    "\n",
    "sx, sy = 0, 0\n",
    "for i in range(h):\n",
    "    for j in range(w):\n",
    "        if s[i][j] == \".\":\n",
    "            sx, sy = i, j\n",
    "            break\n",
    "        \n",
    "ans = []\n",
    "\n",
    "for i in range(h):\n",
    "    for j in range(w):\n",
    "        if s[i][j] == \".\":\n",
    "            gx, gy = i, j\n",
    "            c = copy.deepcopy(s)\n",
    "            (dfs(sx, sy, gx, gy, c))\n",
    "            count = 0\n",
    "\n",
    "print(max(ans)-1)\n",
    "print(ans)"
   ]
  },
  {
   "cell_type": "code",
   "execution_count": 9,
   "metadata": {
    "scrolled": true
   },
   "outputs": [
    {
     "name": "stdout",
     "output_type": "stream",
     "text": [
      "4 4\n",
      "s...\n",
      "..##\n",
      ".#.#\n",
      ".g..\n",
      "s...\n",
      "..##\n",
      ".#.#\n",
      ".g..\n",
      "--------------------\n",
      "#...\n",
      "..##\n",
      ".#.#\n",
      ".g..\n",
      "--------------------\n",
      "#...\n",
      "#.##\n",
      ".#.#\n",
      ".g..\n",
      "--------------------\n",
      "#...\n",
      "#.##\n",
      "##.#\n",
      ".g..\n",
      "--------------------\n",
      "#...\n",
      "#.##\n",
      "##.#\n",
      "#g..\n",
      "--------------------\n",
      "#...\n",
      "#.##\n",
      "##.#\n",
      "#g..\n",
      "--------------------\n",
      "#...\n",
      "#.##\n",
      "##.#\n",
      "#g..\n",
      "--------------------\n",
      "Yes\n"
     ]
    },
    {
     "ename": "SystemExit",
     "evalue": "",
     "output_type": "error",
     "traceback": [
      "An exception has occurred, use %tb to see the full traceback.\n",
      "\u001b[1;31mSystemExit\u001b[0m\n"
     ]
    },
    {
     "name": "stderr",
     "output_type": "stream",
     "text": [
      "C:\\Users\\bi17030\\Anaconda3\\lib\\site-packages\\IPython\\core\\interactiveshell.py:2971: UserWarning: To exit: use 'exit', 'quit', or Ctrl-D.\n",
      "  warn(\"To exit: use 'exit', 'quit', or Ctrl-D.\", stacklevel=1)\n"
     ]
    }
   ],
   "source": [
    "import sys\n",
    "sys.setrecursionlimit(10**7)\n",
    "h,w = map(int,input().split())\n",
    "c = [list(input()) for i in range(h)]\n",
    "\n",
    "def dfs(x,y):\n",
    "    for i in range(h):\n",
    "        for j in range(w):\n",
    "            print(c[i][j],end=\"\")\n",
    "        print(\"\")\n",
    "    print(\"--------------------\")\n",
    "    if not(0 <= x < h) or not(0 <= y < w) or c[x][y] == \"#\":\n",
    "        return\n",
    "    if c[x][y] == \"g\":\n",
    "        print(\"Yes\")\n",
    "        sys.exit()\n",
    "    c[x][y] = \"#\"\n",
    "    dfs(x+1,y)\n",
    "    dfs(x-1,y)\n",
    "    dfs(x,y+1)\n",
    "    dfs(x,y-1)\n",
    "\n",
    "sx, sy = 0, 0\n",
    "for i in range(h):\n",
    "    for j in range(w):\n",
    "        if c[i][j] == \".\":\n",
    "            sx, sy = i, j\n",
    "            \n",
    "dfs(sx, sy)\n",
    "print(\"No\")"
   ]
  },
  {
   "cell_type": "code",
   "execution_count": 124,
   "metadata": {},
   "outputs": [
    {
     "name": "stdout",
     "output_type": "stream",
     "text": [
      "5 2 3\n",
      "3\n"
     ]
    }
   ],
   "source": [
    "import sys\n",
    "sys.setrecursionlimit(10**7)\n",
    "\n",
    "\n",
    "def dfs(px,py):\n",
    "    if px < 0 or py < 0 or px > w-1 or py > h-1:\n",
    "        return False\n",
    "\n",
    "    if c[py][px] == '#':\n",
    "        return False\n",
    "    if c[py][px] == 'g':\n",
    "        return True\n",
    "\n",
    "    c[py][px] = '#'\n",
    "\n",
    "    if dfs(px-1,py):\n",
    "        return True\n",
    "    if dfs(px,py-1):\n",
    "        return True\n",
    "    if dfs(px+1,py):\n",
    "        return True\n",
    "    if dfs(px,py+1):\n",
    "        return True\n",
    "\n",
    "    return False\n",
    "\n",
    "h,w = map(int,input().split())\n",
    "\n",
    "c = []\n",
    "for i in range(h):\n",
    "    s = input()\n",
    "    x = s.find('s')\n",
    "    if x != -1:\n",
    "        start = [x,i]\n",
    "    c.append(list(s))\n",
    "\n",
    "sx = int(start[0])\n",
    "sy = int(start[1])\n",
    "\n",
    "if dfs(sx,sy):\n",
    "    print('Yes')\n",
    "else:\n",
    "    print('No')"
   ]
  },
  {
   "cell_type": "markdown",
   "metadata": {},
   "source": [
    "# 素数判定"
   ]
  },
  {
   "cell_type": "code",
   "execution_count": 5,
   "metadata": {},
   "outputs": [],
   "source": [
    "def is_prime(n):\n",
    "    if n == 1:\n",
    "        return False\n",
    "    for i in range(2,int(n**0.5)+1):\n",
    "        if n % i == 0:\n",
    "            return False\n",
    "    return True"
   ]
  },
  {
   "cell_type": "markdown",
   "metadata": {},
   "source": [
    "# 約数列挙"
   ]
  },
  {
   "cell_type": "code",
   "execution_count": 7,
   "metadata": {},
   "outputs": [
    {
     "data": {
      "text/plain": [
       "[1, 20, 2, 10, 4, 5]"
      ]
     },
     "execution_count": 7,
     "metadata": {},
     "output_type": "execute_result"
    }
   ],
   "source": [
    "def make_divisors(n):\n",
    "    divisors = []\n",
    "    for i in range(1, int(n**0.5)+1):\n",
    "        if n % i == 0:\n",
    "            divisors.append(i)\n",
    "            if i != n // i:\n",
    "                divisors.append(n//i)\n",
    "\n",
    "    # divisors.sort()\n",
    "    return divisors"
   ]
  },
  {
   "cell_type": "markdown",
   "metadata": {},
   "source": [
    "# 素因数分解"
   ]
  },
  {
   "cell_type": "code",
   "execution_count": 4,
   "metadata": {},
   "outputs": [
    {
     "data": {
      "text/plain": [
       "[[2, 1], [3, 2], [5, 1]]"
      ]
     },
     "execution_count": 4,
     "metadata": {},
     "output_type": "execute_result"
    }
   ],
   "source": [
    "def factorization(n):\n",
    "    arr = []\n",
    "    temp = n\n",
    "    for i in range(2, int(-(-n**0.5//1))+1):\n",
    "        if temp%i==0:\n",
    "            cnt=0\n",
    "            while temp%i==0:\n",
    "                cnt+=1\n",
    "                temp //= i\n",
    "            arr.append([i, cnt])\n",
    "\n",
    "    if temp!=1:\n",
    "        arr.append([temp, 1])\n",
    "\n",
    "    if arr==[]:\n",
    "        arr.append([n, 1])\n",
    "\n",
    "    return arr\n",
    "\n",
    "factorization(90) \n",
    "\n",
    "## [[2, 3], [3, 1]] \n",
    "##  24 = 2^3 * 3^1\n"
   ]
  },
  {
   "cell_type": "markdown",
   "metadata": {},
   "source": [
    "# bit全探索"
   ]
  },
  {
   "cell_type": "code",
   "execution_count": 37,
   "metadata": {},
   "outputs": [
    {
     "name": "stdout",
     "output_type": "stream",
     "text": [
      "3242\n",
      "3-2+4+2=7\n"
     ]
    }
   ],
   "source": [
    "a,b,c,d = input()\n",
    "\n",
    "for i in range(3**2):\n",
    "    ls = [\"+\",\"+\",\"+\"]\n",
    "    for j in range(len(ls)):\n",
    "        if (i >> j) & 1:\n",
    "            ls[j] = \"-\"\n",
    "    if eval(a+ls[0]+b+ls[1]+c+ls[2]+d) == 7:\n",
    "        print(a+ls[0]+b+ls[1]+c+ls[2]+d+\"=7\")\n",
    "        break\n",
    "        "
   ]
  },
  {
   "cell_type": "code",
   "execution_count": null,
   "metadata": {},
   "outputs": [],
   "source": [
    "n = int(input())\n",
    "ls = []\n",
    "for i in range(n):\n",
    "    a = int(input())\n",
    "    p = []\n",
    "    for i in range(a):\n",
    "        x,y = map(int,input().split())\n",
    "        p.append([x-1,y])\n",
    "    ls.append(p)\n",
    "\n",
    "ans = 0\n",
    "\n",
    "for i in range(2**n):\n",
    "    flag = 0\n",
    "    for j in range(n):\n",
    "        if (i >> j)&1:#もし正直者だったら\n",
    "            for k in ls[j]:#証言の確認\n",
    "                if (i >> k[0])&1 != k[1]:#もし証言がおかしかったら\n",
    "                    flag = 1\n",
    "                    break\n",
    "    if flag == 0:\n",
    "        ans = max(ans, bin(i)[2:].count('1'))\n",
    "print(ans)"
   ]
  },
  {
   "cell_type": "markdown",
   "metadata": {},
   "source": [
    "# 順序付け"
   ]
  },
  {
   "cell_type": "code",
   "execution_count": 12,
   "metadata": {},
   "outputs": [
    {
     "name": "stdout",
     "output_type": "stream",
     "text": [
      "2\n",
      "1 3\n",
      "2 2\n",
      "[[2, 2], [1, 3]]\n",
      "Yes\n"
     ]
    }
   ],
   "source": [
    "import sys\n",
    "\n",
    "n = int(input())\n",
    "ab = []\n",
    "for i in range(n):\n",
    "    a,b = map(int,input().split())\n",
    "    ab.append([a,b])\n",
    "    \n",
    "ab.sort(key=lambda x:x[1])\n",
    "\n",
    "limit = 0\n",
    "for i in range(n):\n",
    "    limit += ab[i][0]\n",
    "    if limit > ab[i][1]:\n",
    "        print(\"No\")\n",
    "        sys.exit()\n",
    "\n",
    "print(\"Yes\")"
   ]
  },
  {
   "cell_type": "markdown",
   "metadata": {},
   "source": [
    "# ランレングス圧縮（RLE）"
   ]
  },
  {
   "cell_type": "code",
   "execution_count": 34,
   "metadata": {},
   "outputs": [
    {
     "name": "stdout",
     "output_type": "stream",
     "text": [
      "aabbbdj\n",
      "a2 b3 d1 j1\n"
     ]
    }
   ],
   "source": [
    "s = input()\n",
    "tmp,count = s[0],1\n",
    "for i in range(1,len(s)):\n",
    "    if tmp == s[i]:\n",
    "        count += 1\n",
    "    else:\n",
    "        print(tmp,end=\"\")\n",
    "        print(count,end=\" \")\n",
    "        tmp = s[i]\n",
    "        count = 1\n",
    "print(tmp,end=\"\")\n",
    "print(count)"
   ]
  },
  {
   "cell_type": "code",
   "execution_count": 51,
   "metadata": {},
   "outputs": [
    {
     "name": "stdout",
     "output_type": "stream",
     "text": [
      "AAABBCCCCA\n",
      "A3B2C4A1\n"
     ]
    }
   ],
   "source": [
    "def rle(s):\n",
    "    tmp, count, ans = s[0], 1, \"\"\n",
    "    for i in range(1,len(s)):\n",
    "        if tmp == s[i]:\n",
    "            count += 1\n",
    "        else:\n",
    "            ans += tmp+str(count)\n",
    "            tmp = s[i]\n",
    "            count = 1\n",
    "    ans += tmp+str(count)\n",
    "    return ans\n",
    "\n",
    "print(rle(input()))"
   ]
  },
  {
   "cell_type": "markdown",
   "metadata": {},
   "source": [
    "# 動的計画法"
   ]
  },
  {
   "cell_type": "code",
   "execution_count": 70,
   "metadata": {},
   "outputs": [
    {
     "name": "stdout",
     "output_type": "stream",
     "text": [
      "4\n",
      "2 4 4 3\n",
      "4\n",
      "3\n",
      "3\n",
      "4\n"
     ]
    }
   ],
   "source": [
    "import math\n",
    "n = int(input())\n",
    "x = list(map(int,input().split()))\n",
    "sums = sum(x)\n",
    "xsort = sorted(x,reverse=True)\n",
    "temp = math.ceil((n-1)/2)\n",
    "if n % 2 == 0:\n",
    "    medi = xsort[temp]\n",
    "else:\n",
    "    medi = xsort[n//2]\n",
    "\n",
    "medi2 = xsort[temp-1]\n",
    "\n",
    "for i in range(n):\n",
    "    if x[i] <= medi:\n",
    "        print(medi2)\n",
    "    else:\n",
    "        print(medi)"
   ]
  }
 ],
 "metadata": {
  "kernelspec": {
   "display_name": "Python 3",
   "language": "python",
   "name": "python3"
  },
  "language_info": {
   "codemirror_mode": {
    "name": "ipython",
    "version": 3
   },
   "file_extension": ".py",
   "mimetype": "text/x-python",
   "name": "python",
   "nbconvert_exporter": "python",
   "pygments_lexer": "ipython3",
   "version": "3.5.5"
  },
  "toc": {
   "base_numbering": 1,
   "nav_menu": {},
   "number_sections": true,
   "sideBar": true,
   "skip_h1_title": false,
   "title_cell": "Table of Contents",
   "title_sidebar": "Contents",
   "toc_cell": false,
   "toc_position": {
    "height": "calc(100% - 180px)",
    "left": "10px",
    "top": "150px",
    "width": "165px"
   },
   "toc_section_display": true,
   "toc_window_display": true
  }
 },
 "nbformat": 4,
 "nbformat_minor": 2
}
